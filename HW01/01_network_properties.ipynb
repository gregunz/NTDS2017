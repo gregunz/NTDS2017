{
 "cells": [
  {
   "cell_type": "markdown",
   "metadata": {},
   "source": [
    "# Collect and Analyze a Twitter Network\n",
    "[Effrosyni Simou](http://lts4.epfl.ch/simou), *PhD Student*, [EPFL](http://epfl.ch) [LTS4](http://lts4.epfl.ch)"
   ]
  },
  {
   "cell_type": "markdown",
   "metadata": {},
   "source": [
    "# Objective of Exercise\n",
    "The aim of this exercise is to learn how to create your own, real network using data collected from the Internet and then to discover some properties of the collected network. "
   ]
  },
  {
   "cell_type": "markdown",
   "metadata": {},
   "source": [
    "# Resources\n",
    "You might want to have a look at the following resources before starting:\n",
    "\n",
    "* [Twitter REST API](https://dev.twitter.com/rest/public)\n",
    "* [Tweepy Documentation](http://tweepy.readthedocs.io/en/v3.5.0/)\n",
    "* [Tutorial \"Mining Twitter data with Python\"](https://marcobonzanini.com/2015/03/02/mining-twitter-data-with-python-part-1/)"
   ]
  },
  {
   "cell_type": "markdown",
   "metadata": {},
   "source": [
    "# 1. Collect a Twitter Network"
   ]
  },
  {
   "cell_type": "markdown",
   "metadata": {},
   "source": [
    "In order to collect data from Twitter you will need to generate access tokens.  To do this you will need to register a [client application with Twitter](https://apps.twitter.com/). Once you are done you should have your tokens. You can now create a `credentials.ini` file as follows:\n",
    "```\n",
    "[twitter]\n",
    "consumer_key = UtjS4wwl383CF07iggsEqJ3vL\n",
    "consumer_secret = BrC1j0bNO0hhN3yArXG4W67TAxx4R8xr2Mjai05oysBy3TMGNu\n",
    "access_token = BrC1j0bNO0hhN3yArXG4W67TAxx4R8xr2Mjai05oysBy3TMGNu\n",
    "access_secret = 9nbckr6pwriVfphBZ8KbNCzCkY4BHECqrjtPV6mhWTCgx\n",
    "```\n",
    "In this way you will have this information readily available to you. "
   ]
  },
  {
   "cell_type": "code",
   "execution_count": 1,
   "metadata": {
    "collapsed": true
   },
   "outputs": [],
   "source": [
    "%matplotlib inline\n",
    "\n",
    "import matplotlib.pyplot as plt\n",
    "import numpy as np\n",
    "\n",
    "import random\n",
    "import configparser\n",
    "import tweepy\n",
    "\n",
    "from pprint import pprint"
   ]
  },
  {
   "cell_type": "code",
   "execution_count": 2,
   "metadata": {
    "collapsed": true
   },
   "outputs": [],
   "source": [
    "consumer_key = \"UtjS4wwl383CF07iggsEqJ3vL\"\n",
    "consumer_secret = \"BrC1j0bNO0hhN3yArXG4W67TAxx4R8xr2Mjai05oysBy3TMGNu\"\n",
    "access_token = \"457830564-AFxKJrAzg1v9u7BPxkrEoWRB49LBDSXXtD3biH2Y\"\n",
    "access_secret = \"9nbckr6pwriVfphBZ8KbNCzCkY4BHECqrjtPV6mhWTCgx\""
   ]
  },
  {
   "cell_type": "code",
   "execution_count": 3,
   "metadata": {
    "collapsed": true
   },
   "outputs": [],
   "source": [
    "#authentication\n",
    "auth = tweepy.OAuthHandler(consumer_key, consumer_secret)\n",
    "auth.set_access_token(access_token, access_secret)\n",
    "\n",
    "#construct API instance\n",
    "#deal with rate limits and notify when delayed because of rate limits\n",
    "api = tweepy.API(auth, wait_on_rate_limit=True, wait_on_rate_limit_notify=True)"
   ]
  },
  {
   "cell_type": "markdown",
   "metadata": {},
   "source": [
    "Now you are all set up to start collecting data from Twitter! "
   ]
  },
  {
   "cell_type": "markdown",
   "metadata": {},
   "source": [
    "In this exercise we will construct a network with the following logic:\n",
    "\n",
    "1) We will chose a `user_id` in Twitter to be our first node. \n",
    "\n",
    "2) We will find (some) of the users who are both following `user_id` and are being followed by `user_id`. From now on we will call such users \"connections\" of `user_id`. We will place these user ids in a list called `first_nodes`. \n",
    "\n",
    "3) For every node in the list `first_nodes` we will then find (some) of the users who are following and are being followed by this node (aka the connections of this node). The user ids collected in this step will be placed in a list called `second_nodes`.\n",
    "\n",
    "4) The collection of the ids of all nodes (aka Twitter users) that we have collected so far will be placed in a list called `all_nodes`.\n",
    "\n",
    "5) Since we have only collected a subset of all possible \"connections\" for our nodes we have to check if there are any remaining inner connections that we have missed.\n",
    "\n",
    "The entire network is to be organized in a dictionary with entries that will have as key the Twitter id of the user (this is a number characterizing each user in Twitter) and as value the list of ids of his connections.\n",
    "\n",
    "So, let us begin. The first thing that you will have to do is to chose the node from which everything will start. I have chosen the Twitter account of [Applied Machine Learning Days](https://www.appliedmldays.org) that will take place in January 2018 in EPFL. You may change that if you wish to, but please make sure that the user you chose has both followers and friends and that he allows you to access this data."
   ]
  },
  {
   "cell_type": "code",
   "execution_count": null,
   "metadata": {
    "collapsed": true
   },
   "outputs": [],
   "source": [
    "user = 'appliedmldays'\n",
    "user_id = api.get_user(user).id"
   ]
  },
  {
   "cell_type": "code",
   "execution_count": null,
   "metadata": {
    "collapsed": true
   },
   "outputs": [],
   "source": [
    "restricted_user = \"dusanvic\"\n",
    "restricted_user_id = api.get_user(restricted_user).id"
   ]
  },
  {
   "cell_type": "markdown",
   "metadata": {},
   "source": [
    "In the following cell write a function that takes as an argument the Twitter id of a user and returns a list with the **ids** of his connections. Take into account the case where a user does not allow you to access this information.\n",
    "\n",
    "**Reminder:** By connections we mean users that are both followers and friends of a given user."
   ]
  },
  {
   "cell_type": "code",
   "execution_count": 6,
   "metadata": {
    "collapsed": true
   },
   "outputs": [],
   "source": [
    "def get_friends_ids(user_id):\n",
    "    try:\n",
    "        return api.friends_ids(user_id)\n",
    "    except:\n",
    "        return []"
   ]
  },
  {
   "cell_type": "code",
   "execution_count": 7,
   "metadata": {
    "collapsed": true
   },
   "outputs": [],
   "source": [
    "def get_followers_ids(user_id):\n",
    "    try:\n",
    "        return api.followers_ids(user_id)\n",
    "    except:\n",
    "        return []"
   ]
  },
  {
   "cell_type": "code",
   "execution_count": 8,
   "metadata": {
    "collapsed": true
   },
   "outputs": [],
   "source": [
    "def find_connections(user_id):\n",
    "    followers = get_followers_ids(user_id)\n",
    "    friends= get_friends_ids(user_id)\n",
    "    return set(followers) & set(friends)"
   ]
  },
  {
   "cell_type": "code",
   "execution_count": 9,
   "metadata": {},
   "outputs": [],
   "source": [
    "connections = find_connections(user_id)"
   ]
  },
  {
   "cell_type": "code",
   "execution_count": 10,
   "metadata": {
    "scrolled": true
   },
   "outputs": [
    {
     "name": "stdout",
     "output_type": "stream",
     "text": [
      "appliedmldays has 139 connections\n"
     ]
    }
   ],
   "source": [
    "print('{}has {} connections'.format(user, len(connections)))"
   ]
  },
  {
   "cell_type": "code",
   "execution_count": 11,
   "metadata": {
    "collapsed": true
   },
   "outputs": [],
   "source": [
    "connections_from_restricted = find_connections(restricted_user_id)"
   ]
  },
  {
   "cell_type": "code",
   "execution_count": 12,
   "metadata": {},
   "outputs": [
    {
     "name": "stdout",
     "output_type": "stream",
     "text": [
      "dusanvichas 0 connections\n"
     ]
    }
   ],
   "source": [
    "print('{}has {} connections'.format(restricted_user, len(connections_from_restricted)))"
   ]
  },
  {
   "cell_type": "markdown",
   "metadata": {},
   "source": [
    "Collect your `first_nodes` and `second_nodes` and organize your collected nodes and their connections in the dictionary called `network`."
   ]
  },
  {
   "cell_type": "markdown",
   "metadata": {},
   "source": [
    "Hints:\n",
    "* Use `random.choice([1,3,4])` to randomly choose a number in `[1, 3, 4]`.\n",
    "* Use the `append` and `remove` methods to add and remove an element from a Python list.\n",
    "* The `pop` method removes the last item in the list."
   ]
  },
  {
   "cell_type": "code",
   "execution_count": 15,
   "metadata": {},
   "outputs": [],
   "source": [
    "# helper function\n",
    "def flatten_list_of_nodes(ls):\n",
    "    all_nodes = set()\n",
    "    for nodes in ls:\n",
    "        all_nodes = all_nodes | nodes\n",
    "    return all_nodes"
   ]
  },
  {
   "cell_type": "code",
   "execution_count": 62,
   "metadata": {},
   "outputs": [
    {
     "data": {
      "text/plain": [
       "{1, 2, 3, 4}"
      ]
     },
     "execution_count": 62,
     "metadata": {},
     "output_type": "execute_result"
    }
   ],
   "source": [
    "# test\n",
    "flatten_list_of_nodes([set([1,2]), set([3,1,2]), set([1,4])])"
   ]
  },
  {
   "cell_type": "code",
   "execution_count": 13,
   "metadata": {
    "collapsed": true
   },
   "outputs": [],
   "source": [
    "def get_sample_connections(node, sample_size):\n",
    "    connections = find_connections(node)\n",
    "    if len(connections) < sample_size:\n",
    "        return connections\n",
    "    else:\n",
    "        return set(random.sample(connections, sample_size))"
   ]
  },
  {
   "cell_type": "code",
   "execution_count": 14,
   "metadata": {
    "collapsed": true
   },
   "outputs": [],
   "source": [
    "def get_sampled_network(nodes, sample_size):\n",
    "    network = {}\n",
    "    for node in nodes:\n",
    "        network[node] = get_sample_connections(node, sample_size)\n",
    "    return network"
   ]
  },
  {
   "cell_type": "code",
   "execution_count": 17,
   "metadata": {},
   "outputs": [],
   "source": [
    "def build_network(user_id, depth=2, sample_size=3):\n",
    "    network = {}\n",
    "    \n",
    "    root_nodes = set([user_id])\n",
    "    nodes_by_depth = [root_nodes]\n",
    "\n",
    "    for i in range(depth):\n",
    "        net = get_sampled_network(nodes_by_depth[i], sample_size)\n",
    "        nodes_discovered = flatten_list_of_nodes(net.values())\n",
    "        \n",
    "        nodes_by_depth.append(nodes_discovered)\n",
    "        network.update(net)\n",
    "        \n",
    "    return network, nodes_by_depth"
   ]
  },
  {
   "cell_type": "code",
   "execution_count": 18,
   "metadata": {},
   "outputs": [
    {
     "name": "stdout",
     "output_type": "stream",
     "text": [
      "Rate limit reached. Sleeping for: 390\n"
     ]
    }
   ],
   "source": [
    "# /!\\ TAKE LONG TIME TO RUN /!\\\n",
    "\n",
    "how_many = 10\n",
    "\n",
    "network, nodes_by_depth = build_network(user_id, sample_size=how_many)"
   ]
  },
  {
   "cell_type": "markdown",
   "metadata": {},
   "source": [
    "**Be careful!** You should only keep a small value for the `how_many` parameter while you are developing your code. In order to answer to the questions you should raise the value of this parameter to `how_many=10` at least. This will take a while to execute because of the API rate limit (plan your time accordingly). You should also remember to submit your jupyter notebook with the **output shown for a large value of the `how_many` parameter**. "
   ]
  },
  {
   "cell_type": "code",
   "execution_count": 19,
   "metadata": {},
   "outputs": [
    {
     "name": "stdout",
     "output_type": "stream",
     "text": [
      "{54628799: {26789088,\n",
      "            188525525,\n",
      "            224972663,\n",
      "            244413242,\n",
      "            248475557,\n",
      "            330912841,\n",
      "            814794756,\n",
      "            1136638363,\n",
      "            2290301735,\n",
      "            2583761190},\n",
      " 83657910: {9289822,\n",
      "            10359582,\n",
      "            14359848,\n",
      "            15902496,\n",
      "            22262065,\n",
      "            37049955,\n",
      "            40453522,\n",
      "            391689867,\n",
      "            610392096,\n",
      "            806686735},\n",
      " 120045484: {27472675,\n",
      "             75821450,\n",
      "             135855738,\n",
      "             139372482,\n",
      "             340369783,\n",
      "             1295382612,\n",
      "             1586105028,\n",
      "             1883512009,\n",
      "             2786221026,\n",
      "             705105156837216256},\n",
      " 335986035: {35453305,\n",
      "             40938611,\n",
      "             45345177,\n",
      "             187666854,\n",
      "             1148029304,\n",
      "             1276002666,\n",
      "             2670651013,\n",
      "             3036329200,\n",
      "             729562079108046848,\n",
      "             758066723710988288},\n",
      " 409757112: {30633457,\n",
      "             55708829,\n",
      "             144789234,\n",
      "             456972548,\n",
      "             632482420,\n",
      "             3238544817,\n",
      "             3293760129,\n",
      "             4113632909,\n",
      "             820233386199490560,\n",
      "             854226651944824832},\n",
      " 2290986096: {710013,\n",
      "              1583811,\n",
      "              14048130,\n",
      "              20437894,\n",
      "              44421054,\n",
      "              570765306,\n",
      "              1073157144,\n",
      "              1244114060,\n",
      "              3069510755,\n",
      "              763052115392593920},\n",
      " 763052115392593920: {54628799,\n",
      "                      83657910,\n",
      "                      120045484,\n",
      "                      335986035,\n",
      "                      409757112,\n",
      "                      2290986096,\n",
      "                      774182650701418496,\n",
      "                      779056440380100613,\n",
      "                      854226651944824832,\n",
      "                      869090336668237824},\n",
      " 774182650701418496: {164181335,\n",
      "                      242844365,\n",
      "                      437125458,\n",
      "                      2957147102,\n",
      "                      2992089377,\n",
      "                      3955916865,\n",
      "                      743028716457070592,\n",
      "                      763052115392593920,\n",
      "                      791264403014447104,\n",
      "                      829816650119704582},\n",
      " 779056440380100613: {15966654,\n",
      "                      113907485,\n",
      "                      126404603,\n",
      "                      260656385,\n",
      "                      306847234,\n",
      "                      312202153,\n",
      "                      1000672386,\n",
      "                      2408832360,\n",
      "                      734735999029383168,\n",
      "                      763052115392593920},\n",
      " 854226651944824832: {39351968,\n",
      "                      156239854,\n",
      "                      161443532,\n",
      "                      162644488,\n",
      "                      632482420,\n",
      "                      922801934,\n",
      "                      1664664181,\n",
      "                      3245207607,\n",
      "                      856952755046449152,\n",
      "                      872066394023710722},\n",
      " 869090336668237824: {116787878,\n",
      "                      271451861,\n",
      "                      382413245,\n",
      "                      1012724688,\n",
      "                      1416768312,\n",
      "                      1657138746,\n",
      "                      3023987143,\n",
      "                      763052115392593920}}\n"
     ]
    }
   ],
   "source": [
    "pprint(network)"
   ]
  },
  {
   "cell_type": "code",
   "execution_count": 20,
   "metadata": {
    "scrolled": true
   },
   "outputs": [
    {
     "name": "stdout",
     "output_type": "stream",
     "text": [
      "[{763052115392593920},\n",
      " {54628799,\n",
      "  83657910,\n",
      "  120045484,\n",
      "  335986035,\n",
      "  409757112,\n",
      "  2290986096,\n",
      "  774182650701418496,\n",
      "  779056440380100613,\n",
      "  854226651944824832,\n",
      "  869090336668237824},\n",
      " {710013,\n",
      "  1583811,\n",
      "  9289822,\n",
      "  10359582,\n",
      "  14048130,\n",
      "  14359848,\n",
      "  15902496,\n",
      "  15966654,\n",
      "  20437894,\n",
      "  22262065,\n",
      "  26789088,\n",
      "  27472675,\n",
      "  30633457,\n",
      "  35453305,\n",
      "  37049955,\n",
      "  39351968,\n",
      "  40453522,\n",
      "  40938611,\n",
      "  44421054,\n",
      "  45345177,\n",
      "  55708829,\n",
      "  75821450,\n",
      "  113907485,\n",
      "  116787878,\n",
      "  126404603,\n",
      "  135855738,\n",
      "  139372482,\n",
      "  144789234,\n",
      "  156239854,\n",
      "  161443532,\n",
      "  162644488,\n",
      "  164181335,\n",
      "  187666854,\n",
      "  188525525,\n",
      "  224972663,\n",
      "  242844365,\n",
      "  244413242,\n",
      "  248475557,\n",
      "  260656385,\n",
      "  271451861,\n",
      "  306847234,\n",
      "  312202153,\n",
      "  330912841,\n",
      "  340369783,\n",
      "  382413245,\n",
      "  391689867,\n",
      "  437125458,\n",
      "  456972548,\n",
      "  570765306,\n",
      "  610392096,\n",
      "  632482420,\n",
      "  806686735,\n",
      "  814794756,\n",
      "  922801934,\n",
      "  1000672386,\n",
      "  1012724688,\n",
      "  1073157144,\n",
      "  1136638363,\n",
      "  1148029304,\n",
      "  1244114060,\n",
      "  1276002666,\n",
      "  1295382612,\n",
      "  1416768312,\n",
      "  1586105028,\n",
      "  1657138746,\n",
      "  1664664181,\n",
      "  1883512009,\n",
      "  2290301735,\n",
      "  2408832360,\n",
      "  2583761190,\n",
      "  2670651013,\n",
      "  2786221026,\n",
      "  2957147102,\n",
      "  2992089377,\n",
      "  3023987143,\n",
      "  3036329200,\n",
      "  3069510755,\n",
      "  3238544817,\n",
      "  3245207607,\n",
      "  3293760129,\n",
      "  3955916865,\n",
      "  4113632909,\n",
      "  705105156837216256,\n",
      "  729562079108046848,\n",
      "  734735999029383168,\n",
      "  743028716457070592,\n",
      "  758066723710988288,\n",
      "  763052115392593920,\n",
      "  791264403014447104,\n",
      "  820233386199490560,\n",
      "  829816650119704582,\n",
      "  854226651944824832,\n",
      "  856952755046449152,\n",
      "  872066394023710722}]\n"
     ]
    }
   ],
   "source": [
    "pprint(nodes_by_depth)"
   ]
  },
  {
   "cell_type": "code",
   "execution_count": 21,
   "metadata": {
    "collapsed": true
   },
   "outputs": [],
   "source": [
    "root_nodes = nodes_by_depth[0]"
   ]
  },
  {
   "cell_type": "code",
   "execution_count": 22,
   "metadata": {},
   "outputs": [],
   "source": [
    "first_nodes = nodes_by_depth[1]"
   ]
  },
  {
   "cell_type": "code",
   "execution_count": 23,
   "metadata": {
    "collapsed": true
   },
   "outputs": [],
   "source": [
    "second_nodes = nodes_by_depth[2]"
   ]
  },
  {
   "cell_type": "code",
   "execution_count": 24,
   "metadata": {},
   "outputs": [],
   "source": [
    "all_nodes = flatten_list_of_nodes(nodes_by_depth)"
   ]
  },
  {
   "cell_type": "code",
   "execution_count": 25,
   "metadata": {},
   "outputs": [
    {
     "name": "stdout",
     "output_type": "stream",
     "text": [
      "There are 1 root nodes\n",
      "There are 10 first hop nodes\n",
      "There are 94 second hop nodes\n",
      "There are overall 103 nodes in the collected network\n"
     ]
    }
   ],
   "source": [
    "print('There are {} root nodes'.format(len(root_nodes)))\n",
    "print('There are {} first hop nodes'.format(len(first_nodes)))\n",
    "print('There are {} second hop nodes'.format(len(second_nodes)))\n",
    "print('There are overall {} nodes in the collected network'.format(len(all_nodes)))"
   ]
  },
  {
   "cell_type": "markdown",
   "metadata": {},
   "source": [
    "Find the inner connections between your collected nodes that you might have missed because you sampled the connections."
   ]
  },
  {
   "cell_type": "code",
   "execution_count": 64,
   "metadata": {
    "collapsed": true
   },
   "outputs": [],
   "source": [
    "def find_inner_connections(node, inner_nodes):\n",
    "    connections = find_connections(node)\n",
    "    return connections & inner_nodes"
   ]
  },
  {
   "cell_type": "code",
   "execution_count": 65,
   "metadata": {},
   "outputs": [],
   "source": [
    "def find_inner_connections(nodes):\n",
    "    inner_connections = {}\n",
    "    for node in nodes:\n",
    "        inner_connections[node] = find_inner_connections(node, nodes - set([node]))\n",
    "    return inner_connections"
   ]
  },
  {
   "cell_type": "code",
   "execution_count": 55,
   "metadata": {},
   "outputs": [],
   "source": [
    "# /!\\ TAKE LONG TIME TIME TO RUN /!\\\n",
    "full_network = find_inner_connections(all_nodes)"
   ]
  },
  {
   "cell_type": "code",
   "execution_count": 177,
   "metadata": {
    "scrolled": true
   },
   "outputs": [
    {
     "data": {
      "text/plain": [
       "{710013: set(),\n",
       " 1583811: set(),\n",
       " 9289822: set(),\n",
       " 10359582: set(),\n",
       " 14048130: set(),\n",
       " 14359848: set(),\n",
       " 15902496: set(),\n",
       " 15966654: set(),\n",
       " 20437894: set(),\n",
       " 22262065: set(),\n",
       " 26789088: set(),\n",
       " 27472675: set(),\n",
       " 30633457: set(),\n",
       " 35453305: set(),\n",
       " 37049955: set(),\n",
       " 39351968: set(),\n",
       " 40453522: set(),\n",
       " 40938611: set(),\n",
       " 44421054: set(),\n",
       " 45345177: set(),\n",
       " 54628799: set(),\n",
       " 55708829: set(),\n",
       " 75821450: set(),\n",
       " 83657910: set(),\n",
       " 113907485: set(),\n",
       " 116787878: set(),\n",
       " 120045484: set(),\n",
       " 126404603: set(),\n",
       " 135855738: set(),\n",
       " 139372482: set(),\n",
       " 144789234: set(),\n",
       " 156239854: set(),\n",
       " 161443532: set(),\n",
       " 162644488: set(),\n",
       " 164181335: set(),\n",
       " 187666854: set(),\n",
       " 188525525: set(),\n",
       " 224972663: set(),\n",
       " 242844365: set(),\n",
       " 244413242: set(),\n",
       " 248475557: set(),\n",
       " 260656385: set(),\n",
       " 271451861: set(),\n",
       " 306847234: set(),\n",
       " 312202153: set(),\n",
       " 330912841: set(),\n",
       " 335986035: set(),\n",
       " 340369783: set(),\n",
       " 382413245: set(),\n",
       " 391689867: set(),\n",
       " 409757112: set(),\n",
       " 437125458: set(),\n",
       " 456972548: set(),\n",
       " 570765306: set(),\n",
       " 610392096: set(),\n",
       " 632482420: set(),\n",
       " 806686735: set(),\n",
       " 814794756: set(),\n",
       " 922801934: set(),\n",
       " 1000672386: set(),\n",
       " 1012724688: set(),\n",
       " 1073157144: set(),\n",
       " 1136638363: set(),\n",
       " 1148029304: set(),\n",
       " 1244114060: set(),\n",
       " 1276002666: set(),\n",
       " 1295382612: set(),\n",
       " 1416768312: set(),\n",
       " 1586105028: set(),\n",
       " 1657138746: set(),\n",
       " 1664664181: set(),\n",
       " 1883512009: set(),\n",
       " 2290301735: set(),\n",
       " 2290986096: set(),\n",
       " 2408832360: set(),\n",
       " 2583761190: set(),\n",
       " 2670651013: set(),\n",
       " 2786221026: set(),\n",
       " 2957147102: set(),\n",
       " 2992089377: set(),\n",
       " 3023987143: set(),\n",
       " 3036329200: set(),\n",
       " 3069510755: set(),\n",
       " 3238544817: set(),\n",
       " 3245207607: set(),\n",
       " 3293760129: set(),\n",
       " 3955916865: set(),\n",
       " 4113632909: set(),\n",
       " 705105156837216256: set(),\n",
       " 729562079108046848: set(),\n",
       " 734735999029383168: set(),\n",
       " 743028716457070592: set(),\n",
       " 758066723710988288: set(),\n",
       " 763052115392593920: set(),\n",
       " 774182650701418496: set(),\n",
       " 779056440380100613: set(),\n",
       " 791264403014447104: set(),\n",
       " 820233386199490560: set(),\n",
       " 829816650119704582: set(),\n",
       " 854226651944824832: set(),\n",
       " 856952755046449152: set(),\n",
       " 869090336668237824: set(),\n",
       " 872066394023710722: set()}"
      ]
     },
     "execution_count": 177,
     "metadata": {},
     "output_type": "execute_result"
    }
   ],
   "source": [
    "full_network"
   ]
  },
  {
   "cell_type": "markdown",
   "metadata": {},
   "source": [
    "# 2. Discover some of the properties of the collected network"
   ]
  },
  {
   "cell_type": "markdown",
   "metadata": {},
   "source": [
    "## 2.1 Adjacency matrix"
   ]
  },
  {
   "cell_type": "markdown",
   "metadata": {},
   "source": [
    "Congradulations! You have now created a dictionary that describes a real Twitter network!\n",
    "We now want to transform this dictionary into the adjacency (or weight) matrix that you learned about in your first class. "
   ]
  },
  {
   "cell_type": "code",
   "execution_count": 68,
   "metadata": {
    "collapsed": true
   },
   "outputs": [],
   "source": [
    "W_not_sym = np.zeros([len(all_nodes),len(all_nodes)], dtype=int)"
   ]
  },
  {
   "cell_type": "code",
   "execution_count": 69,
   "metadata": {},
   "outputs": [],
   "source": [
    "all_nodes_list = list(all_nodes)"
   ]
  },
  {
   "cell_type": "code",
   "execution_count": 70,
   "metadata": {
    "collapsed": true
   },
   "outputs": [],
   "source": [
    "for y in range(len(all_nodes)):\n",
    "    y_node = all_nodes_list[y]\n",
    "    for x in range(len(all_nodes)):\n",
    "        x_node = all_nodes_list[x]\n",
    "        if y_node in network[x_node]:\n",
    "            W_not_sym[x, y] = 1\n",
    "        else:\n",
    "            W_not_sym[x, y] = 0\n",
    "        "
   ]
  },
  {
   "cell_type": "markdown",
   "metadata": {},
   "source": [
    "Remember that a weight matrix should be symmetric. Check if it is:"
   ]
  },
  {
   "cell_type": "code",
   "execution_count": 71,
   "metadata": {},
   "outputs": [
    {
     "data": {
      "text/plain": [
       "(array([ 0,  1,  1,  1,  3,  5, 25, 25, 35, 39, 39, 46, 47, 59, 62, 64, 70,\n",
       "        70, 74, 76, 76, 83, 85, 86, 87, 87, 87, 88, 89, 91, 91, 94, 95, 96], dtype=int64),\n",
       " array([87, 39, 89, 95, 87, 85, 62, 70, 76,  1, 94, 64, 91, 86, 25, 46, 25,\n",
       "        76, 83, 35, 70, 74,  5, 59,  0,  3, 88, 87,  1, 47, 96, 39,  1, 91], dtype=int64))"
      ]
     },
     "execution_count": 71,
     "metadata": {},
     "output_type": "execute_result"
    }
   ],
   "source": [
    "np.nonzero(W_not_sym - W_not_sym.T)"
   ]
  },
  {
   "cell_type": "markdown",
   "metadata": {},
   "source": [
    "**Question 1:**\n",
    "It might happen that $W \\neq W^{T} $ for some $(i,j)$. Explain why this might be the case."
   ]
  },
  {
   "cell_type": "markdown",
   "metadata": {},
   "source": [
    "**Your answer here:**\n",
    "\n",
    "Because some users doesn't share their followers/friends publicly.\n",
    "\n",
    "If we know x has a connection with y, as it is bidirectionnal, we know y has a connection with x as well even though we can't query his followers/friends"
   ]
  },
  {
   "cell_type": "markdown",
   "metadata": {},
   "source": [
    "Impose your weight matrix to be symmetric."
   ]
  },
  {
   "cell_type": "code",
   "execution_count": 72,
   "metadata": {
    "collapsed": true
   },
   "outputs": [],
   "source": [
    "# Make W is symmetric\n",
    "bigger = W_not_sym.transpose() > W_not_sym"
   ]
  },
  {
   "cell_type": "code",
   "execution_count": 73,
   "metadata": {
    "collapsed": true
   },
   "outputs": [],
   "source": [
    "W = W_not_sym - W_not_sym*bigger + W_not_sym.transpose()*bigger"
   ]
  },
  {
   "cell_type": "markdown",
   "metadata": {},
   "source": [
    "Plot the weight matrix of your collected network.\n",
    "\n",
    "Hint: use `plt.spy()` to visualize a matrix."
   ]
  },
  {
   "cell_type": "code",
   "execution_count": 76,
   "metadata": {},
   "outputs": [
    {
     "data": {
      "text/plain": [
       "<matplotlib.image.AxesImage at 0x161548f25f8>"
      ]
     },
     "execution_count": 76,
     "metadata": {},
     "output_type": "execute_result"
    },
    {
     "data": {
      "image/png": "[encoded data removed]",
      "text/plain": [
       "<matplotlib.figure.Figure at 0x1615488f048>"
      ]
     },
     "metadata": {},
     "output_type": "display_data"
    }
   ],
   "source": [
    "# your code here\n",
    "plt.title('Adjacency Matrix W')\n",
    "plt.spy(W)"
   ]
  },
  {
   "cell_type": "markdown",
   "metadata": {},
   "source": [
    "**Question 2:**\n",
    "What is the maximum number of links $L_{max}$ in a network with $N$ nodes (where $N$ is the number of nodes in your collected network)? How many links $L$ are there in your collected network? Comment on how $L$ and $L_{max}$ compare."
   ]
  },
  {
   "cell_type": "markdown",
   "metadata": {},
   "source": [
    "**Your answer here:**"
   ]
  },
  {
   "cell_type": "code",
   "execution_count": 182,
   "metadata": {
    "collapsed": true
   },
   "outputs": [],
   "source": [
    "def N(how_many):\n",
    "    return 1 + how_many + how_many**2 "
   ]
  },
  {
   "cell_type": "code",
   "execution_count": 183,
   "metadata": {
    "collapsed": true
   },
   "outputs": [],
   "source": [
    "def L_max(N):\n",
    "    return N * (N-1) / 2"
   ]
  },
  {
   "cell_type": "code",
   "execution_count": 188,
   "metadata": {
    "collapsed": true
   },
   "outputs": [],
   "source": [
    "def L(adjacency_matrix):\n",
    "    return adjacency_matrix.sum() / 2"
   ]
  },
  {
   "cell_type": "code",
   "execution_count": 189,
   "metadata": {},
   "outputs": [
    {
     "data": {
      "text/plain": [
       "111"
      ]
     },
     "execution_count": 189,
     "metadata": {},
     "output_type": "execute_result"
    }
   ],
   "source": [
    "N(how_many)"
   ]
  },
  {
   "cell_type": "code",
   "execution_count": 190,
   "metadata": {},
   "outputs": [
    {
     "data": {
      "text/plain": [
       "6105.0"
      ]
     },
     "execution_count": 190,
     "metadata": {},
     "output_type": "execute_result"
    }
   ],
   "source": [
    "L_max(N(how_many))"
   ]
  },
  {
   "cell_type": "code",
   "execution_count": null,
   "metadata": {},
   "outputs": [],
   "source": [
    "L(W)"
   ]
  },
  {
   "cell_type": "markdown",
   "metadata": {},
   "source": [
    "As one can see, $L$ is clearly smaller than $L_{max}$. In other words, our network is sparse.\n",
    "\n",
    "As we have seen in class, this makes sense because most real-world networks (like Facebook) are sparse."
   ]
  },
  {
   "cell_type": "markdown",
   "metadata": {},
   "source": [
    "## 2.2 Degrees distribution"
   ]
  },
  {
   "cell_type": "markdown",
   "metadata": {},
   "source": [
    "Plot a histogram of the degree distribution. "
   ]
  },
  {
   "cell_type": "code",
   "execution_count": 275,
   "metadata": {},
   "outputs": [],
   "source": [
    "p = W.sum(axis=0)"
   ]
  },
  {
   "cell_type": "code",
   "execution_count": 276,
   "metadata": {},
   "outputs": [
    {
     "data": {
      "text/plain": [
       "array([11,  8, 10, 17,  2, 10,  2,  2,  1,  3,  1,  1,  1,  2,  1,  1,  1,\n",
       "        1,  1,  1,  2,  1,  1,  1, 10,  2,  3,  2,  1,  2,  1,  2,  5,  1,\n",
       "        1,  4,  1,  2,  1,  2, 11,  1,  4,  1,  3,  6,  2,  1,  2,  1,  1,\n",
       "        2,  1,  5,  3,  5,  2,  1,  3,  1,  2,  3,  4,  1,  2,  1,  5,  1,\n",
       "        1,  1, 11,  3,  1,  1,  2,  1,  2,  3,  1,  1,  2,  3,  1,  3,  1,\n",
       "        1, 11,  3, 12,  1,  1, 11,  1,  1,  2,  1,  1,  6,  3,  2,  2,  3,\n",
       "        1])"
      ]
     },
     "execution_count": 276,
     "metadata": {},
     "output_type": "execute_result"
    }
   ],
   "source": [
    "p"
   ]
  },
  {
   "cell_type": "code",
   "execution_count": 277,
   "metadata": {},
   "outputs": [
    {
     "data": {
      "text/plain": [
       "1"
      ]
     },
     "execution_count": 277,
     "metadata": {},
     "output_type": "execute_result"
    }
   ],
   "source": [
    "p.min()"
   ]
  },
  {
   "cell_type": "code",
   "execution_count": 278,
   "metadata": {},
   "outputs": [
    {
     "data": {
      "text/plain": [
       "17"
      ]
     },
     "execution_count": 278,
     "metadata": {},
     "output_type": "execute_result"
    }
   ],
   "source": [
    "p.max()"
   ]
  },
  {
   "cell_type": "code",
   "execution_count": 293,
   "metadata": {},
   "outputs": [
    {
     "data": {
      "image/png": "[encoded data removed]",
      "text/plain": [
       "<matplotlib.figure.Figure at 0x161569516d8>"
      ]
     },
     "metadata": {},
     "output_type": "display_data"
    }
   ],
   "source": [
    "plt.hist(p)\n",
    "\n",
    "plt.title(\"Degree distribution\")\n",
    "plt.xlabel(\"degree\")\n",
    "plt.ylabel(\"# nodes\")\n",
    "\n",
    "plt.xlim(p.min(), p.max())\n",
    "\n",
    "plt.show()"
   ]
  },
  {
   "cell_type": "markdown",
   "metadata": {},
   "source": [
    "**Question 3:** Comment on the plot. What do you observe? Would you expect a similar degree disribution in the complete Twitter network?"
   ]
  },
  {
   "cell_type": "markdown",
   "metadata": {},
   "source": [
    "**Your answer here:**"
   ]
  },
  {
   "cell_type": "markdown",
   "metadata": {},
   "source": [
    "## 2.3 Average degree"
   ]
  },
  {
   "cell_type": "markdown",
   "metadata": {},
   "source": [
    "Calculate the average degree of your collected network."
   ]
  },
  {
   "cell_type": "code",
   "execution_count": 238,
   "metadata": {
    "collapsed": true
   },
   "outputs": [],
   "source": [
    "d_avg = p.sum() / len(p)"
   ]
  },
  {
   "cell_type": "code",
   "execution_count": 239,
   "metadata": {},
   "outputs": [
    {
     "data": {
      "text/plain": [
       "2.8932038834951457"
      ]
     },
     "execution_count": 239,
     "metadata": {},
     "output_type": "execute_result"
    }
   ],
   "source": [
    "d_avg"
   ]
  },
  {
   "cell_type": "markdown",
   "metadata": {},
   "source": [
    "## 2.4 Diameter of the collected network"
   ]
  },
  {
   "cell_type": "markdown",
   "metadata": {},
   "source": [
    "**Question 4:** What is the diameter of the collected network? Please justify."
   ]
  },
  {
   "cell_type": "markdown",
   "metadata": {},
   "source": [
    "**Your answer here:**\n",
    "\n",
    "As all nodes are at most two edges far from the root node (user_id), the maximum distance between two nodes could be at most twice as big. Hence: $4$"
   ]
  },
  {
   "cell_type": "markdown",
   "metadata": {},
   "source": [
    "## 2.5 Pruning the collected network"
   ]
  },
  {
   "cell_type": "markdown",
   "metadata": {},
   "source": [
    "You might notice that some nodes have very few connections and hence our matrix is very sparse. Prune the collected network so that you keep only the nodes that have a degree that is greater than the average degree and plot the new adjacency matrix."
   ]
  },
  {
   "cell_type": "code",
   "execution_count": 268,
   "metadata": {},
   "outputs": [],
   "source": [
    "mask = W.sum(axis=0) > d_avg"
   ]
  },
  {
   "cell_type": "code",
   "execution_count": 269,
   "metadata": {},
   "outputs": [],
   "source": [
    "W_pruned = W[mask, :][:, mask]"
   ]
  },
  {
   "cell_type": "code",
   "execution_count": 270,
   "metadata": {},
   "outputs": [
    {
     "data": {
      "text/plain": [
       "(array([], dtype=int64), array([], dtype=int64))"
      ]
     },
     "execution_count": 270,
     "metadata": {},
     "output_type": "execute_result"
    }
   ],
   "source": [
    "np.nonzero(W_pruned - W_pruned.T)"
   ]
  },
  {
   "cell_type": "code",
   "execution_count": 271,
   "metadata": {},
   "outputs": [
    {
     "data": {
      "image/png": "[encoded data removed]",
      "text/plain": [
       "<matplotlib.figure.Figure at 0x161568cea58>"
      ]
     },
     "metadata": {},
     "output_type": "display_data"
    }
   ],
   "source": [
    "plt.spy(W_pruned, markersize=1)\n",
    "plt.title('Adjacency Matrix W_pruned');"
   ]
  },
  {
   "cell_type": "code",
   "execution_count": 272,
   "metadata": {},
   "outputs": [
    {
     "data": {
      "image/png": "[encoded data removed]",
      "text/plain": [
       "<matplotlib.figure.Figure at 0x16156d64fd0>"
      ]
     },
     "metadata": {},
     "output_type": "display_data"
    }
   ],
   "source": [
    "p_pruned = W_pruned.sum(axis=1)\n",
    "plt.hist(p_pruned)\n",
    "\n",
    "plt.title(\"Degree distribution of W_pruned\")\n",
    "plt.xlabel(\"degree\")\n",
    "plt.ylabel(\"# nodes\")\n",
    "\n",
    "plt.xlim(p_pruned.min(), p_pruned.max())\n",
    "\n",
    "plt.show()"
   ]
  },
  {
   "cell_type": "code",
   "execution_count": 273,
   "metadata": {},
   "outputs": [
    {
     "data": {
      "text/plain": [
       "3.5757575757575757"
      ]
     },
     "execution_count": 273,
     "metadata": {},
     "output_type": "execute_result"
    }
   ],
   "source": [
    "p.sum() / len(p)"
   ]
  }
 ],
 "metadata": {
  "kernelspec": {
   "display_name": "Python 3",
   "language": "python",
   "name": "python3"
  },
  "language_info": {
   "codemirror_mode": {
    "name": "ipython",
    "version": 3
   },
   "file_extension": ".py",
   "mimetype": "text/x-python",
   "name": "python",
   "nbconvert_exporter": "python",
   "pygments_lexer": "ipython3",
   "version": "3.6.1"
  }
 },
 "nbformat": 4,
 "nbformat_minor": 1
}
