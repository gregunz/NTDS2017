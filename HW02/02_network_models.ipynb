{
 "cells": [
  {
   "cell_type": "markdown",
   "metadata": {},
   "source": [
    "# NTDS assignment 2: network models\n",
    "[Hermina Petric Maretic](https://people.epfl.ch/hermina.petricmaretic), *PhD student*, [EPFL](http://epfl.ch) [LTS4](http://lts4.epfl.ch)"
   ]
  },
  {
   "cell_type": "markdown",
   "metadata": {},
   "source": [
    "For this assignment we will work on a network representing the collaboration between scientists in the field of General Relativity and Quantum Cosmology. The network comes from [SNAP](http://snap.stanford.edu/data/ca-GrQc.html) and is described as follows:\n",
    "\n",
    "> Arxiv GR-QC (General Relativity and Quantum Cosmology) collaboration network is from the e-print [arXiv](https://arxiv.org) and covers scientific collaborations between authors papers submitted to General Relativity and Quantum Cosmology category. If an author *i* co-authored a paper with author *j*, the graph contains a undirected edge from *i* to *j*. If the paper is co-authored by *k* authors this generates a completely connected (sub)graph on *k* nodes. The data covers papers in the period from January 1993 to April 2003 (124 months). It begins within a few months of the inception of the arXiv."
   ]
  },
  {
   "cell_type": "code",
   "execution_count": 1,
   "metadata": {
    "collapsed": true
   },
   "outputs": [],
   "source": [
    "%matplotlib inline\n",
    "\n",
    "import os\n",
    "import random\n",
    "import matplotlib.pyplot as plt\n",
    "import networkx as nx\n",
    "import numpy as np\n",
    "import warnings\n",
    "warnings.filterwarnings('ignore')"
   ]
  },
  {
   "cell_type": "code",
   "execution_count": 2,
   "metadata": {
    "collapsed": true
   },
   "outputs": [],
   "source": [
    "G = nx.read_edgelist(os.path.join('arxiv_collaboration_network.txt'))"
   ]
  },
  {
   "cell_type": "code",
   "execution_count": 3,
   "metadata": {},
   "outputs": [
    {
     "name": "stdout",
     "output_type": "stream",
     "text": [
      "My network has 5242 nodes.\n",
      "My network has 14496 edges.\n"
     ]
    }
   ],
   "source": [
    "print('My network has {} nodes.'.format(len(G.nodes())))\n",
    "print('My network has {} edges.'.format(G.size()))"
   ]
  },
  {
   "cell_type": "markdown",
   "metadata": {},
   "source": [
    "## 1. Comparing to model networks"
   ]
  },
  {
   "cell_type": "markdown",
   "metadata": {},
   "source": [
    "# 1.1\n",
    "In this part of the assignment, you have to create an Erdős–Rényi and Barabási-Albert graph using NetworkX, and compare them to the collaboration network. Try to simulate the original network as best as you can. When choosing parameters for the networks, take into account the number of vertices and edges of the original network. The number of vertices should be exactly the same. Comment on your choice of parameters."
   ]
  },
  {
   "cell_type": "markdown",
   "metadata": {},
   "source": [
    "<span style=\"color:red\">**Your answer here.**</span>"
   ]
  },
  {
   "cell_type": "code",
   "execution_count": 4,
   "metadata": {
    "collapsed": true
   },
   "outputs": [],
   "source": [
    "G_num_nodes = len(G.nodes())\n",
    "G_num_edges = G.size()"
   ]
  },
  {
   "cell_type": "markdown",
   "metadata": {},
   "source": [
    "### With Erdős–Rényi graph:\n",
    "each node has a probability p to be connected to another node. \n",
    "\n",
    "As a result we can compute the average number of edges:\n",
    "\n",
    "$<L> = p \\frac{N\\cdot (N-1)}{2}$\n",
    "\n",
    "#### where :\n",
    "\n",
    "\\*$p$ : the probability that there is an edge between two nodes (What we looking for)\n",
    "\n",
    "\\*$<L>$ : the average number of links (or edges) in the graph\n",
    "\n",
    "\\*$N$ : the number of nodes\n",
    "\n",
    "<br/>\n",
    "\n",
    "As $<L>$ and $N$ are known, we can compute the probability p : \n",
    "\n",
    "$p = \\frac{2\\cdot<L>}{N\\cdot (N-1)}$"
   ]
  },
  {
   "cell_type": "code",
   "execution_count": 5,
   "metadata": {},
   "outputs": [
    {
     "data": {
      "text/plain": [
       "0.001055278280507905"
      ]
     },
     "execution_count": 5,
     "metadata": {},
     "output_type": "execute_result"
    }
   ],
   "source": [
    "# probality p of the Erdős–Rényi graph\n",
    "p_edge = 2 * G_num_edges / (G_num_nodes * (G_num_nodes - 1))\n",
    "\n",
    "p_edge"
   ]
  },
  {
   "cell_type": "code",
   "execution_count": 6,
   "metadata": {
    "collapsed": true
   },
   "outputs": [],
   "source": [
    "er = nx.erdos_renyi_graph(G_num_nodes, p_edge)"
   ]
  },
  {
   "cell_type": "markdown",
   "metadata": {},
   "source": [
    "### With Barabási-Albert graph \n",
    "\n",
    "It's quite straightforward to compute the unknown parameter m which is the number of new links added.\n",
    "\n",
    "Note: we need an integer, so we round our estimation."
   ]
  },
  {
   "cell_type": "code",
   "execution_count": 7,
   "metadata": {},
   "outputs": [
    {
     "data": {
      "text/plain": [
       "(5242, 3)"
      ]
     },
     "execution_count": 7,
     "metadata": {},
     "output_type": "execute_result"
    }
   ],
   "source": [
    "t = G_num_nodes\n",
    "m = round((G_num_edges) / t)\n",
    "\n",
    "t, m"
   ]
  },
  {
   "cell_type": "code",
   "execution_count": 8,
   "metadata": {
    "collapsed": true
   },
   "outputs": [],
   "source": [
    "ba = nx.barabasi_albert_graph(t, m)"
   ]
  },
  {
   "cell_type": "code",
   "execution_count": 9,
   "metadata": {},
   "outputs": [
    {
     "name": "stdout",
     "output_type": "stream",
     "text": [
      "My Erdős–Rényi network has 5242 nodes.\n",
      "My Erdős–Rényi network has 14550 edges.\n",
      "My Barabási-Albert network has 5242 nodes.\n",
      "My Barabási-Albert network has 15717 edges.\n"
     ]
    }
   ],
   "source": [
    "print('My Erdős–Rényi network has {} nodes.'.format(len(er.nodes())))\n",
    "print('My Erdős–Rényi network has {} edges.'.format(er.size()))\n",
    "print('My Barabási-Albert network has {} nodes.'.format(len(ba.nodes())))\n",
    "print('My Barabási-Albert network has {} edges.'.format(ba.size()))"
   ]
  },
  {
   "cell_type": "markdown",
   "metadata": {},
   "source": [
    "#### The number of nodes of both graphs are as close as possible to the original graph $G$ !"
   ]
  },
  {
   "cell_type": "markdown",
   "metadata": {},
   "source": [
    "# 1.2 \n",
    "Check the size of the largest connected component in each graph and compare them to the original network. In the Erdős–Rényi model, what should the probability of creating each edge be in order to have the same expected size of the largest component? Justify. Generate a graph with this parameter to check if you indeed get a similar value."
   ]
  },
  {
   "cell_type": "code",
   "execution_count": 10,
   "metadata": {},
   "outputs": [
    {
     "name": "stdout",
     "output_type": "stream",
     "text": [
      "4158\n",
      "5220\n",
      "5242\n"
     ]
    }
   ],
   "source": [
    "giant_G = max(nx.connected_component_subgraphs(G), key=len)\n",
    "giant_er = max(nx.connected_component_subgraphs(er), key=len)\n",
    "giant_ba = max(nx.connected_component_subgraphs(ba), key=len)\n",
    "print(len(giant_G.nodes()))\n",
    "print(len(giant_er.nodes()))\n",
    "print(len(giant_ba.nodes()))"
   ]
  },
  {
   "cell_type": "markdown",
   "metadata": {},
   "source": [
    "<span style=\"color:red\">**Your answer here.**</span>"
   ]
  },
  {
   "cell_type": "markdown",
   "metadata": {},
   "source": [
    "From the lecture (02_RandomNetworks-NTDS2017.pdf, slides 19 -> 22) : \n",
    "\n",
    "$ <k> = p \\cdot (N - 1) $\n",
    "\n",
    "$ S = \\frac{N_g}{N} $\n",
    "\n",
    "#### where :\n",
    "\n",
    "\\*$p$ : the probability that there is an edge between two nodes (What we looking for)\n",
    "\n",
    "\\*$<k>$ : the average degree\n",
    "\n",
    "\\*$N_g$ : the number of nodes in the giant componant\n",
    "\n",
    "\\*$N$ : the number of nodes\n",
    "\n",
    "\n",
    "<br/>\n",
    "\n",
    "Using:\n",
    "\n",
    "$ S = 1 - e^{-<k> \\cdot S} $\n",
    "\n",
    "We can conclude that :\n",
    "\n",
    "$ p = - \\log(1 - \\frac{N_g}{N}) \\cdot \\frac{N}{Ng \\cdot (N - 1)} $\n",
    "\n"
   ]
  },
  {
   "cell_type": "code",
   "execution_count": 11,
   "metadata": {},
   "outputs": [
    {
     "data": {
      "text/plain": [
       "(5242, 4158)"
      ]
     },
     "execution_count": 11,
     "metadata": {},
     "output_type": "execute_result"
    }
   ],
   "source": [
    "# Setting variables with name according to the theory\n",
    "N = G_num_nodes\n",
    "Ng = len(giant_G.nodes())\n",
    "\n",
    "N, Ng"
   ]
  },
  {
   "cell_type": "code",
   "execution_count": 12,
   "metadata": {},
   "outputs": [
    {
     "data": {
      "text/plain": [
       "0.00037911157202514915"
      ]
     },
     "execution_count": 12,
     "metadata": {},
     "output_type": "execute_result"
    }
   ],
   "source": [
    "# Computing p_giant\n",
    "p_giant = - np.log(1 - Ng/N) * N / (Ng * (N - 1))\n",
    "p_giant"
   ]
  },
  {
   "cell_type": "code",
   "execution_count": 13,
   "metadata": {
    "collapsed": true
   },
   "outputs": [],
   "source": [
    "# Creating the new ER graph with p_giant\n",
    "er_2 = nx.erdos_renyi_graph(N, p_giant)\n",
    "\n",
    "# Finding the GC\n",
    "er_giant =  max(nx.connected_component_subgraphs(er_2), key=len)"
   ]
  },
  {
   "cell_type": "code",
   "execution_count": 14,
   "metadata": {
    "scrolled": true
   },
   "outputs": [
    {
     "name": "stdout",
     "output_type": "stream",
     "text": [
      "The parameter p for an Erdős–Rényi network with the same expected size of the giant component is 0.00037911157202514915.\n",
      "The size of the component in a randomly generated network with this parameter is 4033.\n"
     ]
    }
   ],
   "source": [
    "# Checking if it works\n",
    "print('The parameter p for an Erdős–Rényi network with the same expected size of the giant component is {}.'.format(p_giant))\n",
    "print('The size of the component in a randomly generated network with this parameter is {}.'.format(len(er_giant.nodes())))"
   ]
  },
  {
   "cell_type": "markdown",
   "metadata": {},
   "source": [
    "#### Perfect ! we have a GC of the same size (roughly)"
   ]
  },
  {
   "cell_type": "markdown",
   "metadata": {},
   "source": [
    "# 1.3 \n",
    "Look at the clustering coefficient of the original network. Is there a network model we talked about that could have a clustering coefficient that is close? Explain."
   ]
  },
  {
   "cell_type": "code",
   "execution_count": 15,
   "metadata": {},
   "outputs": [
    {
     "data": {
      "text/plain": [
       "0.529635811052136"
      ]
     },
     "execution_count": 15,
     "metadata": {},
     "output_type": "execute_result"
    }
   ],
   "source": [
    "nx.average_clustering(G)"
   ]
  },
  {
   "cell_type": "markdown",
   "metadata": {},
   "source": [
    "<span style=\"color:red\">**Your answer here.**</span>"
   ]
  },
  {
   "cell_type": "markdown",
   "metadata": {},
   "source": [
    "### the Watts-Strogatz Model\n",
    "\n",
    "This model with p = 0 (probability of rewiring an edge in the regular ring lattice) we have a clustering coefficient of $\\frac{3}{4}$ when the average degree is large. \n",
    "\n",
    "Hence by increasing p, short path lengths and high clustering can coexist in the network."
   ]
  },
  {
   "cell_type": "markdown",
   "metadata": {},
   "source": [
    "** Bonus: **\n",
    "\n",
    "By playing a bit with $p$ of the Watts-Strogratz model one can easily get a cluster coefficient close to the graph $G$ with the same numbers of nodes and the same average degree, which is order of magnitude closer than previous random graph :"
   ]
  },
  {
   "cell_type": "code",
   "execution_count": 16,
   "metadata": {},
   "outputs": [
    {
     "data": {
      "text/plain": [
       "6"
      ]
     },
     "execution_count": 16,
     "metadata": {},
     "output_type": "execute_result"
    }
   ],
   "source": [
    "k = int(np.round(np.mean(list(nx.degree(G).values()))))\n",
    "k"
   ]
  },
  {
   "cell_type": "code",
   "execution_count": 17,
   "metadata": {
    "collapsed": true
   },
   "outputs": [],
   "source": [
    "ws = nx.watts_strogatz_graph(N, k, 4e-02)"
   ]
  },
  {
   "cell_type": "code",
   "execution_count": 18,
   "metadata": {},
   "outputs": [
    {
     "name": "stdout",
     "output_type": "stream",
     "text": [
      "0.0010655873017567023\n",
      "0.00012717792191275593\n",
      "0.008262092391400824\n",
      "0.5314090102529372\n"
     ]
    }
   ],
   "source": [
    "# printing average clusting of the graphs created in part 1\n",
    "\n",
    "for g in [er, er_2, ba, ws]:\n",
    "    print(nx.average_clustering(g))"
   ]
  },
  {
   "cell_type": "markdown",
   "metadata": {},
   "source": [
    "Please note that this graph ($ws$) is still different in many ways than the original one $G$"
   ]
  },
  {
   "cell_type": "markdown",
   "metadata": {},
   "source": [
    "## 2. Creating a network with a predefined degree distribution"
   ]
  },
  {
   "cell_type": "markdown",
   "metadata": {},
   "source": [
    "In this part of the assignment, you will have to create a random network from a predefined degree distribution. There are several network models which can create a random network with the exact same degree distribution as the original, or with the same expected distribution as the original. Refer to section 4.8 of [the Barabási book](http://networksciencebook.com) for more information."
   ]
  },
  {
   "cell_type": "markdown",
   "metadata": {},
   "source": [
    "One of the most famous ones is the configuration model. The model for a graph with $L$ edges in total is constructed in the following steps:\n",
    "\n",
    "- Assign a degree to each node, represented as stubs (half-links). The degree sequence is either generated analytically from a preselected distribution, or it is extracted from the adjacency matrix of a real network. Note that we must start from an even number of stubs to avoid being left with unpaired stubs.\n",
    "- Randomly select a stub pair and connect them. Then randomly choose another pair from the remaining $2L - 2$ stubs and connect them. This procedure is repeated until all stubs are paired up.\n",
    "\n",
    "*Reminder:* A stub is a half-link, representing the half of an edge. It contains one node and can be paired up with another stub to create an edge (between the two corresponding nodes)."
   ]
  },
  {
   "cell_type": "markdown",
   "metadata": {},
   "source": [
    "# 2.1 \n",
    "However, this model allows for the creation of multi-links (multiple edges between the same pair of vertices) and self-loops, thus leading to a non-simple graph. In this assignment, you will implement a greedy configuration model, to avoid these problems.\n",
    "\n",
    "The algorithm goes as follows:\n",
    "- Extract the degree sequence from our collaboration network.\n",
    "- Assign a target degree to each node, represented as stubs or half-links. Use the degree sequence extracted from the collaboration network.\n",
    "- Sort the nodes by degree. \n",
    "    - Pick the node with the highest target degree. Delete all its stubs from the list of stubs to make sure we don't create a self loop.\n",
    "    - Until all its weighted degree equals its target degree: \n",
    "        - Randomly select one stub from the list of stubs (corresponding to one of the other nodes), and connect these two nodes. In case the two chosen nodes are already connected, simply increase the weight of this edge by one. Be careful to randomly select from stubs and not from nodes, as this means the chances of selecting a node will be proportional to its target degree.\n",
    "    - When the number of edges adjacent to this node corresponds to its target degree, go on to the second node in the list. \n",
    "    - Repeate this procedure until all stubs are paired up, or there is only one node left with a pair number of stubs. In that case, don't create a self-loop, but discard the stubs.\n",
    "    \n",
    "*Hints*: \n",
    " - Use `nx.empty_graph()` to create an empty graph.\n",
    " - Use `G.add_edge(node1,node2,weight = 1)` to add an edge to a weighted graph.\n",
    " - Use `G.edge[node1][node2]['weight'] += 1` to increment the weight of an edge by one."
   ]
  },
  {
   "cell_type": "markdown",
   "metadata": {},
   "source": [
    "<span style=\"color:red\">**Your answer here.**</span>"
   ]
  },
  {
   "cell_type": "markdown",
   "metadata": {},
   "source": [
    "helper function to create a \"stubs list\""
   ]
  },
  {
   "cell_type": "code",
   "execution_count": 19,
   "metadata": {
    "collapsed": true
   },
   "outputs": [],
   "source": [
    "# given a degree distribution of nodes it returns a list of stubs using each the distribution index as node value\n",
    "# ex: [3, 2, 1] -> [0, 0, 0, 1, 1, 2]\n",
    "# an offset can be added to the nodes\n",
    "\n",
    "def deg_dist_to_stubs(degree_distribution, offset=0):\n",
    "    return [i+offset for i, deg in enumerate(degree_distribution) for _ in range(deg)]"
   ]
  },
  {
   "cell_type": "markdown",
   "metadata": {},
   "source": [
    "#### Implementation of the greedy configuration as close as possible to the algorithm asked"
   ]
  },
  {
   "cell_type": "code",
   "execution_count": 20,
   "metadata": {
    "collapsed": true
   },
   "outputs": [],
   "source": [
    "def greedy_configuration(degree_distribution):\n",
    "    N = len(degree_distribution)\n",
    "    G = nx.empty_graph(N)\n",
    "    \n",
    "    # in order to keep the original untouched (no unwanted side-effect)\n",
    "    remaining_deg_dist = degree_distribution.copy()\n",
    "    \n",
    "    for node in range(N):\n",
    "        # deg_dist is the remaining degrees\n",
    "        deg, *deg_dist = remaining_deg_dist[node:]\n",
    "        \n",
    "        # check if there are not stubs to assigned for this node \n",
    "        if deg > 0:\n",
    "\n",
    "            # we create a list of stubs from which we will randomly pick #stubs equal to the degree (deg)\n",
    "            stubs = deg_dist_to_stubs(deg_dist, node+1)\n",
    "        \n",
    "            for linked_node in np.random.choice(stubs, size=deg, replace=False):\n",
    "                # we reduce the degree when a stub has been linked\n",
    "                remaining_deg_dist[linked_node] -= 1\n",
    "                \n",
    "                if linked_node in G.edge[node]:\n",
    "                    # if the edge already exists we simply increase the weight\n",
    "                    G.edge[node][linked_node]['weight'] += 1\n",
    "                else:\n",
    "                    G.add_edge(node, linked_node, weight=1)\n",
    "    return G"
   ]
  },
  {
   "cell_type": "code",
   "execution_count": 21,
   "metadata": {
    "collapsed": true
   },
   "outputs": [],
   "source": [
    "degree_distribution=sorted(nx.degree(G).values(), reverse=True) # degree distribution sorted from highest to lowest\n",
    "gc = greedy_configuration(degree_distribution)"
   ]
  },
  {
   "cell_type": "markdown",
   "metadata": {},
   "source": [
    "# 2.2\n",
    "Verify that the networks have the same number of nodes. Plot the difference between the weighted degree distributions to verify that they are identical. If not, why?"
   ]
  },
  {
   "cell_type": "code",
   "execution_count": 22,
   "metadata": {
    "collapsed": true
   },
   "outputs": [],
   "source": [
    "degree_sequence_gc=sorted(nx.degree(gc, weight = 'weight').values(),reverse=True) #weighted degree distribution\n",
    "# Your code here.\n",
    "\n",
    "degree_diff = np.array(degree_distribution) != np.array(degree_sequence_gc)\n",
    "\n",
    "assert degree_diff.sum() == 0, \"Degree distribution of both graphs should be similar\""
   ]
  },
  {
   "cell_type": "markdown",
   "metadata": {},
   "source": [
    "There are no differences as expected"
   ]
  },
  {
   "cell_type": "markdown",
   "metadata": {},
   "source": [
    "# 2.3 \n",
    "Should these two networks have the same adjacency matrices? Justify."
   ]
  },
  {
   "cell_type": "markdown",
   "metadata": {},
   "source": [
    "<span style=\"color:red\">**Your answer here.**</span>"
   ]
  },
  {
   "cell_type": "markdown",
   "metadata": {},
   "source": [
    "No, or at least with very low probability. Why? Although we are keeping the degree distribution, the edges are created randomly (weighted with the degree distribution) between all nodes, hence we shouldn't expect same adjacency matrices.\n",
    "\n",
    "Example:"
   ]
  },
  {
   "cell_type": "code",
   "execution_count": 23,
   "metadata": {},
   "outputs": [
    {
     "data": {
      "text/plain": [
       "(81, 5242, 5161)"
      ]
     },
     "execution_count": 23,
     "metadata": {},
     "output_type": "execute_result"
    }
   ],
   "source": [
    "N = len(degree_distribution)\n",
    "deg = degree_distribution[0]\n",
    "\n",
    "deg, N, N - deg"
   ]
  },
  {
   "cell_type": "markdown",
   "metadata": {},
   "source": [
    "Node 0 has a degree of 81, it means it's connected with 81 other nodes out of the 5241 nodes. As we are rewiring nodes randomly (by taking into account their degrees) we have high probability of choosing any of the 5161 other nodes which would lead to a different adjacency matrix."
   ]
  },
  {
   "cell_type": "markdown",
   "metadata": {},
   "source": [
    "Let's just verify that"
   ]
  },
  {
   "cell_type": "code",
   "execution_count": 24,
   "metadata": {},
   "outputs": [
    {
     "data": {
      "text/plain": [
       "(57572, array([   0,    0,    0, ..., 5241, 5241, 5241], dtype=int32))"
      ]
     },
     "execution_count": 24,
     "metadata": {},
     "output_type": "execute_result"
    }
   ],
   "source": [
    "\n",
    "differences = np.nonzero(nx.adjacency_matrix(G) - nx.adjacency_matrix(gc))\n",
    "\n",
    "len(differences[0]), differences[0]"
   ]
  },
  {
   "cell_type": "markdown",
   "metadata": {},
   "source": [
    "Indeed the matrices are absolutely different"
   ]
  },
  {
   "cell_type": "markdown",
   "metadata": {},
   "source": [
    "# 2.4 \n",
    "Draw both the generated and original networks. Are they similar? If not, why? Try to explain."
   ]
  },
  {
   "cell_type": "code",
   "execution_count": 25,
   "metadata": {},
   "outputs": [
    {
     "data": {
      "image/png": "[encoded data removed]",
      "text/plain": [
       "<matplotlib.figure.Figure at 0x243e388aeb8>"
      ]
     },
     "metadata": {},
     "output_type": "display_data"
    }
   ],
   "source": [
    "nx.draw(G, node_size=50, width=0.6)"
   ]
  },
  {
   "cell_type": "code",
   "execution_count": 26,
   "metadata": {
    "scrolled": false
   },
   "outputs": [
    {
     "data": {
      "image/png": "[encoded data removed]",
      "text/plain": [
       "<matplotlib.figure.Figure at 0x243e8d70d68>"
      ]
     },
     "metadata": {},
     "output_type": "display_data"
    }
   ],
   "source": [
    "nx.draw(gc, node_size=50, width=0.6)"
   ]
  },
  {
   "cell_type": "markdown",
   "metadata": {},
   "source": [
    "<span style=\"color:red\">**Your answer here.**</span>"
   ]
  },
  {
   "cell_type": "markdown",
   "metadata": {},
   "source": [
    "Both graphs are different but not totally, they both have a rather big giant cluster but the one of G is smaller. In other words, the preferential attachment to the second graph is way higher.\n",
    "\n",
    "The G graph contains many more subclusters of reasonable size. (we cannot very easily see it but in part 2.5 it has been computed, see #connected components)\n",
    "\n",
    "In general we should understand that having the exact same degree distribution between two graphs doesn't make the two graphs the same."
   ]
  },
  {
   "cell_type": "markdown",
   "metadata": {},
   "source": [
    "# 2.5\n",
    "Do you expect the properties studied in the first part of the assignment to be close to the original graph? Justify."
   ]
  },
  {
   "cell_type": "markdown",
   "metadata": {},
   "source": [
    "<span style=\"color:red\">**Your answer here.**</span>"
   ]
  },
  {
   "cell_type": "markdown",
   "metadata": {},
   "source": [
    "Number of nodes and edges are the same by construction. But this doesn't not imply that other properties will follow as we have seen in part 1.\n",
    "\n",
    "(please note that : there are less edges but by taking into account their weight we would have the same number)\n",
    " \n",
    "From the graph, we have seen that the preferential attachment is higher in $gc$, hence we will have a bigger GC.\n",
    "\n",
    "About the clustering coefficient, we know that in real world graphs (such as social networks), the clustering is rather high (just like for $G$). But we construct $gc$ with randomness in mind and random networks tend to have a rather low clustering coefficient. So we can guess that clustering coefficient will be smaller in $gc$."
   ]
  },
  {
   "cell_type": "markdown",
   "metadata": {},
   "source": [
    "Let's verify our assumptions and show some properties for each graph."
   ]
  },
  {
   "cell_type": "code",
   "execution_count": 27,
   "metadata": {
    "collapsed": true
   },
   "outputs": [],
   "source": [
    "def print_properties(G):\n",
    "    print('Network has {} nodes.'.format(len(G.nodes())))\n",
    "    print('Network has {} edges.'.format(G.size()))\n",
    "    connected_components = list(nx.connected_component_subgraphs(G))\n",
    "    print('Network has {} connected components'.format(len(connected_components)))\n",
    "    giant_G = max(connected_components, key=len)\n",
    "    print('Network has GC of size = {}'.format(len(giant_G.nodes())))\n",
    "    print('Network has clustering coefficient = {}'.format(nx.average_clustering(G)))"
   ]
  },
  {
   "cell_type": "code",
   "execution_count": 28,
   "metadata": {},
   "outputs": [
    {
     "name": "stdout",
     "output_type": "stream",
     "text": [
      "Network has 5242 nodes.\n",
      "Network has 14496 edges.\n",
      "Network has 355 connected components\n",
      "Network has GC of size = 4158\n",
      "Network has clustering coefficient = 0.529635811052136\n"
     ]
    }
   ],
   "source": [
    "print_properties(G)"
   ]
  },
  {
   "cell_type": "code",
   "execution_count": 29,
   "metadata": {},
   "outputs": [
    {
     "name": "stdout",
     "output_type": "stream",
     "text": [
      "Network has 5242 nodes.\n",
      "Network has 14428 edges.\n",
      "Network has 30 connected components\n",
      "Network has GC of size = 5179\n",
      "Network has clustering coefficient = 0.00622168742916021\n"
     ]
    }
   ],
   "source": [
    "print_properties(gc)"
   ]
  }
 ],
 "metadata": {
  "kernelspec": {
   "display_name": "Python 3",
   "language": "python",
   "name": "python3"
  },
  "language_info": {
   "codemirror_mode": {
    "name": "ipython",
    "version": 3
   },
   "file_extension": ".py",
   "mimetype": "text/x-python",
   "name": "python",
   "nbconvert_exporter": "python",
   "pygments_lexer": "ipython3",
   "version": "3.6.1"
  }
 },
 "nbformat": 4,
 "nbformat_minor": 2
}
