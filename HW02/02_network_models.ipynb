{
 "cells": [
  {
   "cell_type": "markdown",
   "metadata": {},
   "source": [
    "# NTDS assignment 2: network models\n",
    "[Hermina Petric Maretic](https://people.epfl.ch/hermina.petricmaretic), *PhD student*, [EPFL](http://epfl.ch) [LTS4](http://lts4.epfl.ch)"
   ]
  },
  {
   "cell_type": "markdown",
   "metadata": {},
   "source": [
    "For this assignment we will work on a network representing the collaboration between scientists in the field of General Relativity and Quantum Cosmology. The network comes from [SNAP](http://snap.stanford.edu/data/ca-GrQc.html) and is described as follows:\n",
    "\n",
    "> Arxiv GR-QC (General Relativity and Quantum Cosmology) collaboration network is from the e-print [arXiv](https://arxiv.org) and covers scientific collaborations between authors papers submitted to General Relativity and Quantum Cosmology category. If an author *i* co-authored a paper with author *j*, the graph contains a undirected edge from *i* to *j*. If the paper is co-authored by *k* authors this generates a completely connected (sub)graph on *k* nodes. The data covers papers in the period from January 1993 to April 2003 (124 months). It begins within a few months of the inception of the arXiv."
   ]
  },
  {
   "cell_type": "code",
   "execution_count": 1,
   "metadata": {
    "collapsed": true
   },
   "outputs": [],
   "source": [
    "%matplotlib inline\n",
    "\n",
    "import os\n",
    "import random\n",
    "import matplotlib.pyplot as plt\n",
    "import networkx as nx\n",
    "import numpy as np\n",
    "import warnings\n",
    "warnings.filterwarnings('ignore')"
   ]
  },
  {
   "cell_type": "code",
   "execution_count": 2,
   "metadata": {},
   "outputs": [],
   "source": [
    "G = nx.read_edgelist(os.path.join('arxiv_collaboration_network.txt'))"
   ]
  },
  {
   "cell_type": "code",
   "execution_count": 3,
   "metadata": {},
   "outputs": [
    {
     "name": "stdout",
     "output_type": "stream",
     "text": [
      "My network has 5242 nodes.\n",
      "My network has 14496 edges.\n"
     ]
    }
   ],
   "source": [
    "print('My network has {} nodes.'.format(len(G.nodes())))\n",
    "print('My network has {} edges.'.format(G.size()))"
   ]
  },
  {
   "cell_type": "code",
   "execution_count": 4,
   "metadata": {},
   "outputs": [],
   "source": [
    "#nx.draw(G)"
   ]
  },
  {
   "cell_type": "markdown",
   "metadata": {},
   "source": [
    "## 1. Comparing to model networks"
   ]
  },
  {
   "cell_type": "markdown",
   "metadata": {},
   "source": [
    "1.1 In this part of the assignment, you have to create an Erdős–Rényi and Barabási-Albert graph using NetworkX, and compare them to the collaboration network. Try to simulate the original network as best as you can. When choosing parameters for the networks, take into account the number of vertices and edges of the original network. The number of vertices should be exactly the same. Comment on your choice of parameters."
   ]
  },
  {
   "cell_type": "code",
   "execution_count": 11,
   "metadata": {},
   "outputs": [],
   "source": [
    "G_num_nodes = len(G.nodes())\n",
    "G_num_edges = G.size()\n"
   ]
  },
  {
   "cell_type": "markdown",
   "metadata": {},
   "source": [
    "With Erdős–Rényi graph, each node has a probability p to be connected to another node. \n",
    "\n",
    "As a result we can compute the average number of edges:\n",
    "\n",
    "$<L> = p \\frac{N\\cdot (N-1)}{2}$\n",
    "\n",
    "*L is the average number of links (or edges) in the graph\n",
    "\n",
    "*N is the number of nodes\n",
    "\n",
    "As $<L>$ is given, we can compute the probability p : \n",
    "\n",
    "$p = \\frac{2\\cdot<L>}{N\\cdot (N-1)}$"
   ]
  },
  {
   "cell_type": "code",
   "execution_count": 60,
   "metadata": {},
   "outputs": [
    {
     "data": {
      "text/plain": [
       "0.001055278280507905"
      ]
     },
     "execution_count": 60,
     "metadata": {},
     "output_type": "execute_result"
    }
   ],
   "source": [
    "max_num_edges = (num_nodes * (num_nodes - 1)) / 2\n",
    "\n",
    "# probality p of the Erdős–Rényi graph\n",
    "p_edge = num_edges / max_num_edges\n",
    "\n",
    "p_edge"
   ]
  },
  {
   "cell_type": "code",
   "execution_count": 61,
   "metadata": {},
   "outputs": [],
   "source": [
    "er = nx.erdos_renyi_graph(num_nodes, p_edge)"
   ]
  },
  {
   "cell_type": "code",
   "execution_count": 62,
   "metadata": {},
   "outputs": [
    {
     "data": {
      "text/plain": [
       "(5242, 3)"
      ]
     },
     "execution_count": 62,
     "metadata": {},
     "output_type": "execute_result"
    }
   ],
   "source": [
    "t = num_nodes\n",
    "m = round((num_edges) / t)\n",
    "\n",
    "t, m"
   ]
  },
  {
   "cell_type": "code",
   "execution_count": 63,
   "metadata": {},
   "outputs": [],
   "source": [
    "ba = nx.barabasi_albert_graph(t, m)"
   ]
  },
  {
   "cell_type": "markdown",
   "metadata": {},
   "source": [
    "**Your answer here.**"
   ]
  },
  {
   "cell_type": "code",
   "execution_count": 64,
   "metadata": {},
   "outputs": [
    {
     "name": "stdout",
     "output_type": "stream",
     "text": [
      "My Erdős–Rényi network has 5242 nodes.\n",
      "My Erdős–Rényi network has 14198 edges.\n",
      "My Barabási-Albert network has 5242 nodes.\n",
      "My Barabási-Albert network has 15717 edges.\n"
     ]
    }
   ],
   "source": [
    "print('My Erdős–Rényi network has {} nodes.'.format(len(er.nodes())))\n",
    "print('My Erdős–Rényi network has {} edges.'.format(er.size()))\n",
    "print('My Barabási-Albert network has {} nodes.'.format(len(ba.nodes())))\n",
    "print('My Barabási-Albert network has {} edges.'.format(ba.size()))"
   ]
  },
  {
   "cell_type": "markdown",
   "metadata": {},
   "source": [
    "1.2 Check the size of the largest connected component in each graph and compare them to the original network. In the Erdős–Rényi model, what should the probability of creating each edge be in order to have the same expected size of the largest component? Justify. Generate a graph with this parameter to check if you indeed get a similar value."
   ]
  },
  {
   "cell_type": "code",
   "execution_count": 77,
   "metadata": {},
   "outputs": [
    {
     "name": "stdout",
     "output_type": "stream",
     "text": [
      "4158\n",
      "5217\n",
      "5242\n"
     ]
    }
   ],
   "source": [
    "giant_G = max(nx.connected_component_subgraphs(G), key=len)\n",
    "giant_er = max(nx.connected_component_subgraphs(er), key=len)\n",
    "giant_ba = max(nx.connected_component_subgraphs(ba), key=len)\n",
    "print(len(giant_G.nodes()))\n",
    "print(len(giant_er.nodes()))\n",
    "print(len(giant_ba.nodes()))"
   ]
  },
  {
   "cell_type": "markdown",
   "metadata": {},
   "source": [
    "**Your answer here.**"
   ]
  },
  {
   "cell_type": "markdown",
   "metadata": {},
   "source": [
    "From the lecture :\n",
    "\n",
    "k = p_giant * (N - 1)\n",
    "\n",
    "S = 1 - np.exp(-k * S)\n",
    "\n",
    "S = Ng / N\n",
    "\n",
    "->\n",
    "\n",
    "p_giant = - log(1 - Ng / N) * N / (Ng * (N - 1))\n"
   ]
  },
  {
   "cell_type": "code",
   "execution_count": 90,
   "metadata": {},
   "outputs": [
    {
     "data": {
      "text/plain": [
       "(5242, 4158)"
      ]
     },
     "execution_count": 90,
     "metadata": {},
     "output_type": "execute_result"
    }
   ],
   "source": [
    "# Setting variables with name according to the theory\n",
    "N = num_nodes\n",
    "Ng = len(giant_G.nodes())\n",
    "\n",
    "N, Ng"
   ]
  },
  {
   "cell_type": "code",
   "execution_count": 91,
   "metadata": {},
   "outputs": [
    {
     "data": {
      "text/plain": [
       "0.00037911157202514915"
      ]
     },
     "execution_count": 91,
     "metadata": {},
     "output_type": "execute_result"
    }
   ],
   "source": [
    "# Computing p_giant\n",
    "p_giant = - np.log(1 - Ng/N) * N / (Ng * (N - 1))\n",
    "p_giant"
   ]
  },
  {
   "cell_type": "code",
   "execution_count": 92,
   "metadata": {
    "collapsed": true
   },
   "outputs": [],
   "source": [
    "# Creating the new ER graph with p_giant\n",
    "er_2 = nx.erdos_renyi_graph(N, p_giant)\n",
    "\n",
    "# Finding the GC\n",
    "er_giant =  max(nx.connected_component_subgraphs(er_2), key=len)"
   ]
  },
  {
   "cell_type": "code",
   "execution_count": 93,
   "metadata": {},
   "outputs": [
    {
     "name": "stdout",
     "output_type": "stream",
     "text": [
      "The parameter p for an Erdős–Rényi network with the same expected size of the giant component is 0.00037911157202514915.\n",
      "The size of the component in a randomly generated network with this parameter is 4166.\n"
     ]
    }
   ],
   "source": [
    "# Checking if it works\n",
    "print('The parameter p for an Erdős–Rényi network with the same expected size of the giant component is {}.'.format(p_giant))\n",
    "print('The size of the component in a randomly generated network with this parameter is {}.'.format(len(er_giant.nodes())))"
   ]
  },
  {
   "cell_type": "markdown",
   "metadata": {},
   "source": [
    "1.3 Look at the clustering coefficient of the original network. Is there a network model we talked about that could have a clustering coefficient that is close? Explain."
   ]
  },
  {
   "cell_type": "code",
   "execution_count": 94,
   "metadata": {},
   "outputs": [
    {
     "data": {
      "text/plain": [
       "0.529635811052136"
      ]
     },
     "execution_count": 94,
     "metadata": {},
     "output_type": "execute_result"
    }
   ],
   "source": [
    "nx.average_clustering(G)"
   ]
  },
  {
   "cell_type": "markdown",
   "metadata": {},
   "source": [
    "**Your answer here.**"
   ]
  },
  {
   "cell_type": "code",
   "execution_count": null,
   "metadata": {
    "collapsed": true
   },
   "outputs": [],
   "source": []
  },
  {
   "cell_type": "code",
   "execution_count": 95,
   "metadata": {},
   "outputs": [
    {
     "data": {
      "text/plain": [
       "(0.001024392115578685, 0.0001680565396704275, 0.007958898147822057)"
      ]
     },
     "execution_count": 95,
     "metadata": {},
     "output_type": "execute_result"
    }
   ],
   "source": [
    "avg_clust_er = nx.average_clustering(er)\n",
    "avg_clust_er_2 = nx.average_clustering(er_2)\n",
    "\n",
    "avg_clust_ba = nx.average_clustering(ba)\n",
    "\n",
    "avg_clust_er, avg_clust_er_2, avg_clust_ba"
   ]
  },
  {
   "cell_type": "markdown",
   "metadata": {},
   "source": [
    "As we can see, the average clustering coefficient of each of our three graphs is not even close to the original one.\n",
    "\n",
    "WHY ? -> answer\n",
    "\n",
    "This demonstrates that computing the number of nodes, edge or the GC size is not enough to consider any graph similar to another one"
   ]
  },
  {
   "cell_type": "markdown",
   "metadata": {},
   "source": [
    "## 2. Creating a network with a predefined degree distribution"
   ]
  },
  {
   "cell_type": "markdown",
   "metadata": {},
   "source": [
    "In this part of the assignment, you will have to create a random network from a predefined degree distribution. There are several network models which can create a random network with the exact same degree distribution as the original, or with the same expected distribution as the original. Refer to section 4.8 of [the Barabási book](http://networksciencebook.com) for more information."
   ]
  },
  {
   "cell_type": "markdown",
   "metadata": {},
   "source": [
    "One of the most famous ones is the configuration model. The model for a graph with $L$ edges in total is constructed in the following steps:\n",
    "\n",
    "- Assign a degree to each node, represented as stubs (half-links). The degree sequence is either generated analytically from a preselected distribution, or it is extracted from the adjacency matrix of a real network. Note that we must start from an even number of stubs to avoid being left with unpaired stubs.\n",
    "- Randomly select a stub pair and connect them. Then randomly choose another pair from the remaining $2L - 2$ stubs and connect them. This procedure is repeated until all stubs are paired up.\n",
    "\n",
    "*Reminder:* A stub is a half-link, representing the half of an edge. It contains one node and can be paired up with another stub to create an edge (between the two corresponding nodes)."
   ]
  },
  {
   "cell_type": "markdown",
   "metadata": {},
   "source": [
    "2.1 However, this model allows for the creation of multi-links (multiple edges between the same pair of vertices) and self-loops, thus leading to a non-simple graph. In this assignment, you will implement a greedy configuration model, to avoid these problems.\n",
    "\n",
    "The algorithm goes as follows:\n",
    "- Extract the degree sequence from our collaboration network.\n",
    "- Assign a target degree to each node, represented as stubs or half-links. Use the degree sequence extracted from the collaboration network.\n",
    "- Sort the nodes by degree. \n",
    "    - Pick the node with the highest target degree. Delete all its stubs from the list of stubs to make sure we don't create a self loop.\n",
    "    - Until all its weighted degree equals its target degree: \n",
    "        - Randomly select one stub from the list of stubs (corresponding to one of the other nodes), and connect these two nodes. In case the two chosen nodes are already connected, simply increase the weight of this edge by one. Be careful to randomly select from stubs and not from nodes, as this means the chances of selecting a node will be proportional to its target degree.\n",
    "    - When the number of edges adjacent to this node corresponds to its target degree, go on to the second node in the list. \n",
    "    - Repeate this procedure until all stubs are paired up, or there is only one node left with a pair number of stubs. In that case, don't create a self-loop, but discard the stubs.\n",
    "    \n",
    "*Hints*: \n",
    " - Use `nx.empty_graph()` to create an empty graph.\n",
    " - Use `G.add_edge(node1,node2,weight = 1)` to add an edge to a weighted graph.\n",
    " - Use `G.edge[node1][node2]['weight'] += 1` to increment the weight of an edge by one."
   ]
  },
  {
   "cell_type": "code",
   "execution_count": 163,
   "metadata": {
    "collapsed": true
   },
   "outputs": [],
   "source": [
    "# given a list of remaining stubs per node, \n",
    "# it returns the node of a randomly chosen stub\n",
    "# with equiprobable probability between all stubs\n",
    "\n",
    "def find_stub(remaining_stubs):\n",
    "    total_num_stubs = np.sum(remaining_stubs)\n",
    "    if total_num_stubs < 1:\n",
    "        return -1\n",
    "    stub_index = np.random.randint(total_num_stubs)\n",
    "    \n",
    "    num_stubs_encoutered = 0\n",
    "    for node, stubs in enumerate(remaining_stubs):\n",
    "        num_stubs_encoutered += stubs\n",
    "        if stub_index < num_stubs_encoutered:\n",
    "            return node\n",
    "    raise Exception(\"case not handled yet \\o/\")"
   ]
  },
  {
   "cell_type": "code",
   "execution_count": 171,
   "metadata": {
    "collapsed": true
   },
   "outputs": [],
   "source": [
    "# given \n",
    "\n",
    "def find_all_stubs(num_stubs, remaining_stubs, offset=0):\n",
    "    all_stubs = []\n",
    "    for _ in range(num_stubs):\n",
    "        stub = find_stub(remaining_stubs)\n",
    "        remaining_stubs[stub] -= 1\n",
    "        all_stubs.append(stub + offset)\n",
    "    return all_stubs, remaining_stubs\n",
    "        "
   ]
  },
  {
   "cell_type": "code",
   "execution_count": 172,
   "metadata": {},
   "outputs": [],
   "source": [
    "def greedy_configuration(degree_distribution):\n",
    "    N = len(degree_distribution)\n",
    "    G = nx.empty_graph(N)\n",
    "    remaining_stubs = degree_distribution.copy()\n",
    "    for node, _ in enumerate(degree_distribution):\n",
    "        num_stubs, *remaining_stubs = remaining_stubs\n",
    "        offset = node + 1\n",
    "        linked_nodes, remaining_stubs = find_all_stubs(num_stubs, remaining_stubs, offset)\n",
    "        for linked_node in linked_nodes:\n",
    "            if linked_node > node:\n",
    "                if linked_node in G.edge[node]:\n",
    "                    G.edge[node][linked_node]['weight'] += 1\n",
    "                else:\n",
    "                    G.add_edge(node, linked_node, weight=1)\n",
    "    return G"
   ]
  },
  {
   "cell_type": "code",
   "execution_count": 198,
   "metadata": {},
   "outputs": [],
   "source": [
    "degree_distribution=sorted(nx.degree(G).values(),reverse=True) # degree distribution sorted from highest to lowest\n",
    "gc = greedy_configuration(degree_distribution)"
   ]
  },
  {
   "cell_type": "markdown",
   "metadata": {},
   "source": [
    "2.2 Verify that the networks have the same number of nodes. Plot the difference between the weighted degree distributions to verify that they are identical. If not, why?"
   ]
  },
  {
   "cell_type": "code",
   "execution_count": 200,
   "metadata": {},
   "outputs": [],
   "source": [
    "degree_sequence_gc=sorted(nx.degree(gc, weight = 'weight').values(),reverse=True) #weighted degree distribution\n",
    "# Your code here.\n",
    "\n",
    "degree_diff = np.array(degree_distribution) - np.array(degree_sequence_gc)\n",
    "\n",
    "assert degree_diff.sum() == 0, \"Degree distribution of both graphs should be similar\""
   ]
  },
  {
   "cell_type": "markdown",
   "metadata": {},
   "source": [
    "**Your answer here.**"
   ]
  },
  {
   "cell_type": "markdown",
   "metadata": {},
   "source": [
    "\n",
    "\n",
    "There are no differences"
   ]
  },
  {
   "cell_type": "markdown",
   "metadata": {},
   "source": [
    "2.3 Should these two networks have the same adjacency matrices? Justify."
   ]
  },
  {
   "cell_type": "markdown",
   "metadata": {},
   "source": [
    "**Your answer here.**"
   ]
  },
  {
   "cell_type": "markdown",
   "metadata": {},
   "source": [
    "No, or at least with very low probability. Why? Although we are keeping the degree distribution, the edges are created randomly (weighted with the degree distribution) between all nodes, hence we shouldn't expect same adjacency matrices."
   ]
  },
  {
   "cell_type": "code",
   "execution_count": 201,
   "metadata": {},
   "outputs": [
    {
     "data": {
      "text/plain": [
       "(57568, array([   0,    0,    0, ..., 5241, 5241, 5241], dtype=int32))"
      ]
     },
     "execution_count": 201,
     "metadata": {},
     "output_type": "execute_result"
    }
   ],
   "source": [
    "differences = np.nonzero(nx.adjacency_matrix(G) - nx.adjacency_matrix(gc))\n",
    "\n",
    "len(differences[0]), differences[0]"
   ]
  },
  {
   "cell_type": "markdown",
   "metadata": {},
   "source": [
    "2.4 Draw both the generated and original networks. Are they similar? If not, why? Try to explain."
   ]
  },
  {
   "cell_type": "code",
   "execution_count": 202,
   "metadata": {},
   "outputs": [
    {
     "data": {
      "image/png": "[encoded data removed]",
      "text/plain": [
       "<matplotlib.figure.Figure at 0x1d0d226b0b8>"
      ]
     },
     "metadata": {},
     "output_type": "display_data"
    }
   ],
   "source": [
    "nx.draw(G, node_size=50, width=0.6)"
   ]
  },
  {
   "cell_type": "code",
   "execution_count": 203,
   "metadata": {},
   "outputs": [
    {
     "data": {
      "image/png": "[encoded data removed]",
      "text/plain": [
       "<matplotlib.figure.Figure at 0x1d0d2a5dd30>"
      ]
     },
     "metadata": {},
     "output_type": "display_data"
    }
   ],
   "source": [
    "nx.draw(gc, node_size=50, width=0.6)"
   ]
  },
  {
   "cell_type": "markdown",
   "metadata": {},
   "source": [
    "**Your answer here.**"
   ]
  },
  {
   "cell_type": "markdown",
   "metadata": {},
   "source": [
    "EXPLANATIONS HERE"
   ]
  },
  {
   "cell_type": "markdown",
   "metadata": {},
   "source": [
    "2.5 Do you expect the properties studied in the first part of the assignment to be close to the original graph? Justify."
   ]
  },
  {
   "cell_type": "markdown",
   "metadata": {},
   "source": [
    "**Your answer here.**"
   ]
  },
  {
   "cell_type": "markdown",
   "metadata": {},
   "source": [
    "YES/NO, BECAUSE...."
   ]
  },
  {
   "cell_type": "code",
   "execution_count": 217,
   "metadata": {
    "collapsed": true
   },
   "outputs": [],
   "source": [
    "def print_properties(G):\n",
    "    print('Network has {} nodes.'.format(len(G.nodes())))\n",
    "    print('Network has {} edges.'.format(G.size()))\n",
    "    connected_components = list(nx.connected_component_subgraphs(G))\n",
    "    print('Network has {} connected components'.format(len(connected_components)))\n",
    "    giant_G = max(connected_components, key=len)\n",
    "    print('Network has GC of size = {}'.format(len(giant_G.nodes())))\n",
    "    print('Network has clustering coefficient = {}'.format(nx.average_clustering(G)))"
   ]
  },
  {
   "cell_type": "code",
   "execution_count": 218,
   "metadata": {},
   "outputs": [
    {
     "name": "stdout",
     "output_type": "stream",
     "text": [
      "Network has 5242 nodes.\n",
      "Network has 14496 edges.\n",
      "Network has 355 connected components\n",
      "Network has GC of size = 4158\n",
      "Network has clustering coefficient = 0.529635811052136\n"
     ]
    }
   ],
   "source": [
    "print_properties(G)"
   ]
  },
  {
   "cell_type": "code",
   "execution_count": 219,
   "metadata": {},
   "outputs": [
    {
     "name": "stdout",
     "output_type": "stream",
     "text": [
      "Network has 5242 nodes.\n",
      "Network has 14445 edges.\n",
      "Network has 30 connected components\n",
      "Network has GC of size = 5176\n",
      "Network has clustering coefficient = 0.00547304580842176\n"
     ]
    }
   ],
   "source": [
    "print_properties(gc)"
   ]
  }
 ],
 "metadata": {
  "kernelspec": {
   "display_name": "Python 3",
   "language": "python",
   "name": "python3"
  },
  "language_info": {
   "codemirror_mode": {
    "name": "ipython",
    "version": 3
   },
   "file_extension": ".py",
   "mimetype": "text/x-python",
   "name": "python",
   "nbconvert_exporter": "python",
   "pygments_lexer": "ipython3",
   "version": "3.6.1"
  }
 },
 "nbformat": 4,
 "nbformat_minor": 2
}
